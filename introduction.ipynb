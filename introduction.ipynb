{
  "nbformat": 4,
  "nbformat_minor": 0,
  "metadata": {
    "colab": {
      "name": "Untitled1.ipynb",
      "version": "0.3.2",
      "provenance": [],
      "include_colab_link": true
    },
    "kernelspec": {
      "name": "python3",
      "display_name": "Python 3"
    }
  },
  "cells": [
    {
      "cell_type": "markdown",
      "metadata": {
        "id": "view-in-github",
        "colab_type": "text"
      },
      "source": [
        "<a href=\"https://colab.research.google.com/github/navamys/machine-learning/blob/master/introduction.ipynb\" target=\"_parent\"><img src=\"https://colab.research.google.com/assets/colab-badge.svg\" alt=\"Open In Colab\"/></a>"
      ]
    },
    {
      "cell_type": "markdown",
      "metadata": {
        "id": "WFMCawjbwFRf",
        "colab_type": "text"
      },
      "source": [
        "REPORT\n",
        "\n",
        "\n",
        "---\n",
        "\n",
        "Internship on Machine Learning\n",
        "\n",
        "---\n",
        "\n",
        "Introduction\n",
        "\n",
        "*   Familiarization of python.\n",
        "*   Machine learning applications using python – hands on\n",
        "\n",
        "1.   Accessing model files and recognizing objects.\n",
        "\n",
        "2.   Digits recognition using Minist database.\n",
        "\n",
        "3.   Object recognition using CIFAR10 dataset.\n",
        "\n",
        "4.   Transfer learning.\n",
        "\n",
        "5.   Machine learning /Deep learning and AI.\n",
        "\n",
        "*   IDE / Development Environments.\n",
        "*   Software languages\n",
        "*   Version control\n",
        "\n",
        "---\n",
        "\n",
        "\n",
        "\n",
        "\n",
        "\n",
        "\n",
        "\n",
        "\n",
        "\n",
        "\n",
        "\n",
        "\n",
        "\n",
        "\n",
        "\n",
        "\n",
        "\n",
        "\n",
        "\n",
        "\n",
        "\n",
        "\n",
        "\n",
        "\n",
        "\n",
        "\n",
        "\n",
        "\n",
        "\n",
        "\n",
        "\n",
        "\n",
        "\n",
        "\n",
        "\n",
        "\n",
        "\n",
        "\n"
      ]
    }
  ]
}
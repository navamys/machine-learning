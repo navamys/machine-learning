{
  "nbformat": 4,
  "nbformat_minor": 0,
  "metadata": {
    "colab": {
      "name": "Untitled2.ipynb",
      "version": "0.3.2",
      "provenance": [],
      "include_colab_link": true
    },
    "kernelspec": {
      "name": "python3",
      "display_name": "Python 3"
    }
  },
  "cells": [
    {
      "cell_type": "markdown",
      "metadata": {
        "id": "view-in-github",
        "colab_type": "text"
      },
      "source": [
        "<a href=\"https://colab.research.google.com/github/navamys/machine-learning/blob/master/objective%20aim%20scope.ipynb\" target=\"_parent\"><img src=\"https://colab.research.google.com/assets/colab-badge.svg\" alt=\"Open In Colab\"/></a>"
      ]
    },
    {
      "cell_type": "markdown",
      "metadata": {
        "id": "6Ss3xX317bcP",
        "colab_type": "text"
      },
      "source": [
        ""
      ]
    },
    {
      "cell_type": "markdown",
      "metadata": {
        "id": "PUHisP277bfO",
        "colab_type": "text"
      },
      "source": [
        "Objective\n",
        "\n",
        "> \n",
        "  Our purpose of machine learning is to discover patterns in your data and then make predictions based on those often, complex patterns to answer business questions, and help solve problems. Machine learning helps analyse your data and identify trends.\n",
        "\n",
        "\n",
        "---\n",
        "Aim\n",
        "\n",
        "> \n",
        "Our aim is to attain more knowledge on this area and do a project on object recognition.\n",
        "\n",
        "---\n",
        "\n",
        "Scope\n",
        "\n",
        "> \n",
        "Machine Learning is currently one of the significant topics in IT. Technologies such as digital, big data, Artificial Intelligence, automation and machine learning are increasingly shaping future of work and jobs. is a specific set of techniques that enable machines to learn from data, and make predictions. When the biases of our past and present fuel the predictions of the future, it's a tall order to expect AI to operate independently of human flaws. \n",
        "\n",
        "\n",
        "\n",
        "\n",
        "\n",
        "\n",
        "\n",
        "\n",
        "\n",
        "\n",
        "\n",
        "\n"
      ]
    }
  ]
}